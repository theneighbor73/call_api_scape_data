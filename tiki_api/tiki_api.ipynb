{
 "cells": [
  {
   "cell_type": "markdown",
   "metadata": {},
   "source": [
    "### Load libraries"
   ]
  },
  {
   "cell_type": "code",
   "execution_count": 1,
   "metadata": {},
   "outputs": [],
   "source": [
    "import requests"
   ]
  },
  {
   "cell_type": "markdown",
   "metadata": {},
   "source": [
    "### Get `access_token`\n",
    "Follow instruction here: [How to get access token with Postman](https://open.tiki.vn/docs/docs/current/getting-started/postman-get-token/)\n",
    "\n",
    "Other than this, if you know Java, you can try to follow Tiki's tutorial on how to get `access_token` via this [git repo](https://github.com/tikivn/open-api-samples)."
   ]
  },
  {
   "cell_type": "code",
   "execution_count": 2,
   "metadata": {},
   "outputs": [],
   "source": [
    "### Define the acquired access_token in the environment\n",
    "access_token = 'eDm8GpY1EVUCelZZG6LN7tetSW5pMp4AImLorkgLpgA.LLL5dzw-e2vqQ3-Qszx95JvtXpNhE6ByzrTRqlwoNxo' # Input your own access_token"
   ]
  },
  {
   "cell_type": "markdown",
   "metadata": {},
   "source": [
    "### Test API call\n",
    "Tiki API Reference: [Link](https://open.tiki.vn/docs/docs/current/api-references/)\n",
    "\n",
    "Let's test with endpoint `https://api.tiki.vn/integration/v2/sellers/me`"
   ]
  },
  {
   "cell_type": "code",
   "execution_count": null,
   "metadata": {},
   "outputs": [],
   "source": [
    "import requests\n",
    "\n",
    "# Configuration\n",
    "api_url = 'https://api.tiki.vn/integration/v2/sellers/me'\n",
    "\n",
    "# Define headers, mimicking cURL's User-Agent\n",
    "headers = {\n",
    "    'Authorization': f'Bearer {access_token}',\n",
    "    'User-Agent': 'curl/8.5.0', # Adjust based on your terminal agent\n",
    "    'Accept': '*/*',\n",
    "    'Content-Type': 'application/x-www-form-urlencoded'\n",
    "}\n",
    "\n",
    "# Make the GET request\n",
    "response = requests.get(api_url, headers=headers)\n",
    "\n",
    "# Print the status code\n",
    "print(f\"Status Code: {response.status_code}\")\n",
    "\n",
    "# Handle the response\n",
    "if response.status_code == 200:\n",
    "    data = response.json()\n",
    "    print(\"Response JSON:\")\n",
    "    print(data)\n",
    "else:\n",
    "    print(\"Failed to retrieve data.\")\n",
    "    print(f\"Response Content: {response.text}\")\n"
   ]
  },
  {
   "cell_type": "markdown",
   "metadata": {},
   "source": [
    "### Response illustration\n",
    "\n",
    "```\n",
    "Status Code: 200\n",
    "Response JSON:\n",
    "{'id': 101, 'sid': 'D222315F58811658CFDACC25A9A3A012E1EDF1EE', 'name': 'Example Tiki Shop', 'active': 1, 'logo': '6b/c0/ee/5522f4e81eab3e99cd31f48e3e9732bf.jpg', 'operation_models': ['dropship', 'seller_backorder', 'instock'], 'can_update_product': 0, 'registration_status': 'completed', 'live_at': '2017-07-13 09:05:40'}\n",
    "```\n",
    "\n",
    "Good luck calling API!"
   ]
  }
 ],
 "metadata": {
  "kernelspec": {
   "display_name": "Python 3",
   "language": "python",
   "name": "python3"
  },
  "language_info": {
   "codemirror_mode": {
    "name": "ipython",
    "version": 3
   },
   "file_extension": ".py",
   "mimetype": "text/x-python",
   "name": "python",
   "nbconvert_exporter": "python",
   "pygments_lexer": "ipython3",
   "version": "3.12.7"
  }
 },
 "nbformat": 4,
 "nbformat_minor": 2
}
