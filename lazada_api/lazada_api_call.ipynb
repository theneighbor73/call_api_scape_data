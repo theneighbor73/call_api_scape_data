{
 "cells": [
  {
   "cell_type": "markdown",
   "metadata": {},
   "source": [
    "## Load library\n",
    "`lazop` package can be:\n",
    "* Manually downloaded from Lazada Open Platform (instruction: [Link](https://open.lazada.com/apps/doc/doc?nodeId=10442&docId=108064)) and installed locally; \n",
    "* Or downloaded by using command `pip install lazop-sdk` (Deck: [Link](https://pypi.org/project/lazop-sdk/))\n",
    "\n",
    "Please try whichever works for you."
   ]
  },
  {
   "cell_type": "code",
   "execution_count": 1,
   "metadata": {},
   "outputs": [],
   "source": [
    "import lazop"
   ]
  },
  {
   "cell_type": "markdown",
   "metadata": {},
   "source": [
    "## Get authorization `code`\n",
    "Instruction: [Link](https://open.lazada.com/apps/doc/doc?spm=a1zq7z.man108130.site_detail.7.4ada7c734R2yiZ&nodeId=10777&docId=108260)\n",
    "\n",
    "Once successfully retrieved your unique authorization `code` from callback URL address, use it to attain `access_token`\n",
    "\n",
    "Successful callback URL address\n",
    "```\n",
    "https://example.com/?code=0_143223_VlsB57ZWTxjSVHzgX75b7kKd13332\n",
    "```"
   ]
  },
  {
   "cell_type": "markdown",
   "metadata": {},
   "source": [
    "## Get `access_token`\n",
    "\n",
    "Deck: [Link](https://open.lazada.com/apps/doc/api?path=%2Fauth%2Ftoken%2Fcreate)\n",
    "\n",
    "`appkey` and `appSecret` can be attained from your APP information in your Lazada Open Platform account, where also contains information about whitelist IP addresses. Only from these IP addresses can the APIs be called."
   ]
  },
  {
   "cell_type": "code",
   "execution_count": 16,
   "metadata": {},
   "outputs": [
    {
     "name": "stdout",
     "output_type": "stream",
     "text": [
      "Access Token: 50000800e43kTcznra8ZoXeqrfvwEacES7KztcihthZIzwoc01wKkv1104570b64\n",
      "Refresh Token: 50001801043qFbtaazFUlLritugeDeqhNvTkfdMkVeUXIgb8shipyX21b63b268u\n"
     ]
    }
   ],
   "source": [
    "url = 'https://auth.lazada.com/rest'\n",
    "appkey = \"154223\" # for illustration purpose only\n",
    "appSecret = \"YixycX7I15Y6SQfabto4EYsVxvW2ruIU\" # for illustration purpose only\n",
    "\n",
    "client = lazop.LazopClient(url, appkey, appSecret)\n",
    "request = lazop.LazopRequest('/auth/token/create')\n",
    "request.add_api_param('code', '0_143223_VlsB57ZWTxjSVHzgX75b7kKd13332') #input retrieved aforementioned 'code' here\n",
    "\n",
    "response = client.execute(request)\n",
    "\n",
    "# Check if the 'code' in response body indicates success\n",
    "response_body = response.body\n",
    "if response_body.get('code') == '0':  # Successful response\n",
    "    access_token = response_body.get('access_token')\n",
    "    refresh_token = response_body.get('refresh_token')\n",
    "    print(f\"Access Token: {access_token}\")\n",
    "    print(f\"Refresh Token: {refresh_token}\")\n",
    "else:\n",
    "    print(\"Failed to retrieve tokens.\")\n",
    "    print(response.body)"
   ]
  },
  {
   "cell_type": "markdown",
   "metadata": {},
   "source": [
    "## Test call API\n",
    "\n",
    "Lazada API Reference: [Link](https://open.lazada.com/apps/doc/api?path=%2Fauth%2Ftoken%2Fcreate)\n",
    "\n",
    "I chose to test with `/product/content/score/get` call"
   ]
  },
  {
   "cell_type": "code",
   "execution_count": null,
   "metadata": {},
   "outputs": [],
   "source": [
    "url = 'https://api.lazada.vn/rest'\n",
    "\n",
    "client = lazop.LazopClient(url, appkey ,appSecret)\n",
    "request = lazop.LazopRequest('/product/content/score/get')\n",
    "request.add_api_param('item_id', '249970368') # for illustration purpose only, input your own product_id to call data about it\n",
    "response = client.execute(request, access_token)\n",
    "print(response.type)\n",
    "print(response.body)"
   ]
  },
  {
   "cell_type": "markdown",
   "metadata": {},
   "source": [
    "If the `response.body` is printed with information about your product, success!\n",
    "\n",
    "Have fun calling APIs."
   ]
  }
 ],
 "metadata": {
  "kernelspec": {
   "display_name": ".venv",
   "language": "python",
   "name": "python3"
  },
  "language_info": {
   "codemirror_mode": {
    "name": "ipython",
    "version": 3
   },
   "file_extension": ".py",
   "mimetype": "text/x-python",
   "name": "python",
   "nbconvert_exporter": "python",
   "pygments_lexer": "ipython3",
   "version": "3.12.5"
  }
 },
 "nbformat": 4,
 "nbformat_minor": 2
}
